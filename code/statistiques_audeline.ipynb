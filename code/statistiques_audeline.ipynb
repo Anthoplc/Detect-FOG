{
 "cells": [
  {
   "cell_type": "markdown",
   "metadata": {},
   "source": [
    "# Statistiques Audeline"
   ]
  },
  {
   "cell_type": "code",
   "execution_count": 1,
   "metadata": {},
   "outputs": [
    {
     "name": "stderr",
     "output_type": "stream",
     "text": [
      "c:\\Users\\antho\\anaconda3\\lib\\site-packages\\numba\\core\\cpu.py:97: UserWarning: Numba extension module 'sparse._numba_extension' failed to load due to 'ContextualVersionConflict((numpy 1.24.2 (c:\\users\\antho\\anaconda3\\lib\\site-packages), Requirement.parse('numpy<1.22,>=1.18'), {'numba'}))'.\n",
      "  numba.core.entrypoints.init_all()\n"
     ]
    }
   ],
   "source": [
    "import pandas as pd\n",
    "import matplotlib.pyplot as plt\n",
    "from main import PreProcessing, Statistics\n",
    "import numpy as np\n",
    "import json\n",
    "from scipy.stats import mode, median_abs_deviation, iqr, trim_mean, entropy as ent, skew, kurtosis\n",
    "from scipy.signal import welch, correlate, stft\n",
    "from statsmodels.tsa.ar_model import AutoReg\n",
    "from sklearn.metrics import mean_squared_error\n",
    "from sklearn.model_selection import TimeSeriesSplit\n",
    "from scipy.fft import fft, fftfreq\n",
    "import entropy as ent\n",
    "import os"
   ]
  },
  {
   "cell_type": "markdown",
   "metadata": {},
   "source": [
    "# Batch Process"
   ]
  },
  {
   "cell_type": "code",
   "execution_count": 2,
   "metadata": {},
   "outputs": [
    {
     "name": "stdout",
     "output_type": "stream",
     "text": [
      "Found 108 c3d files to process.\n",
      "Processing file 1/108: A_P_1956-02-21_ON_DM_1.c3d\n",
      "JSON creation completed.\n",
      "Data processing and labeling completed.\n",
      "Statistics computed for A_P_1956-02-21_ON_DM_1.c3d.\n",
      "Processing file 2/108: A_P_1956-02-21_ON_DM_10.c3d\n",
      "JSON creation completed.\n",
      "Data processing and labeling completed.\n",
      "Statistics computed for A_P_1956-02-21_ON_DM_10.c3d.\n",
      "Processing file 3/108: A_P_1956-02-21_ON_DM_13.c3d\n",
      "JSON creation completed.\n",
      "Data processing and labeling completed.\n",
      "Statistics computed for A_P_1956-02-21_ON_DM_13.c3d.\n",
      "Processing file 4/108: A_P_1956-02-21_ON_DM_16.c3d\n",
      "JSON creation completed.\n",
      "Data processing and labeling completed.\n",
      "Statistics computed for A_P_1956-02-21_ON_DM_16.c3d.\n",
      "Processing file 5/108: A_P_1956-02-21_ON_DM_4.c3d\n"
     ]
    },
    {
     "ename": "KeyboardInterrupt",
     "evalue": "",
     "output_type": "error",
     "traceback": [
      "\u001b[1;31m---------------------------------------------------------------------------\u001b[0m",
      "\u001b[1;31mKeyboardInterrupt\u001b[0m                         Traceback (most recent call last)",
      "\u001b[1;32m~\\AppData\\Local\\Temp\\ipykernel_25968\\577709202.py\u001b[0m in \u001b[0;36m<module>\u001b[1;34m\u001b[0m\n\u001b[0;32m     34\u001b[0m \u001b[1;31m# Path to your C3D files directory\u001b[0m\u001b[1;33m\u001b[0m\u001b[1;33m\u001b[0m\u001b[0m\n\u001b[0;32m     35\u001b[0m \u001b[0mdirectory_path\u001b[0m \u001b[1;33m=\u001b[0m \u001b[1;34m'C:/Users/antho/Documents/MEMOIRE_M2/c3d_audeline/'\u001b[0m\u001b[1;33m\u001b[0m\u001b[1;33m\u001b[0m\u001b[0m\n\u001b[1;32m---> 36\u001b[1;33m \u001b[0mfinal_df\u001b[0m \u001b[1;33m=\u001b[0m \u001b[0mbatch_process_c3d\u001b[0m\u001b[1;33m(\u001b[0m\u001b[0mdirectory_path\u001b[0m\u001b[1;33m)\u001b[0m\u001b[1;33m\u001b[0m\u001b[1;33m\u001b[0m\u001b[0m\n\u001b[0m\u001b[0;32m     37\u001b[0m \u001b[1;33m\u001b[0m\u001b[0m\n\u001b[0;32m     38\u001b[0m \u001b[1;31m# # Optionally save the final DataFrame to a CSV file\u001b[0m\u001b[1;33m\u001b[0m\u001b[1;33m\u001b[0m\u001b[0m\n",
      "\u001b[1;32m~\\AppData\\Local\\Temp\\ipykernel_25968\\577709202.py\u001b[0m in \u001b[0;36mbatch_process_c3d\u001b[1;34m(directory_path)\u001b[0m\n\u001b[0;32m     13\u001b[0m         \u001b[1;31m# Process each c3d file\u001b[0m\u001b[1;33m\u001b[0m\u001b[1;33m\u001b[0m\u001b[0m\n\u001b[0;32m     14\u001b[0m         \u001b[0mdetector\u001b[0m \u001b[1;33m=\u001b[0m \u001b[0mPreProcessing\u001b[0m\u001b[1;33m(\u001b[0m\u001b[0mfile_path\u001b[0m\u001b[1;33m)\u001b[0m\u001b[1;33m\u001b[0m\u001b[1;33m\u001b[0m\u001b[0m\n\u001b[1;32m---> 15\u001b[1;33m         \u001b[0mdetector\u001b[0m\u001b[1;33m.\u001b[0m\u001b[0mcreation_json_grace_c3d\u001b[0m\u001b[1;33m(\u001b[0m\u001b[1;33m)\u001b[0m\u001b[1;33m\u001b[0m\u001b[1;33m\u001b[0m\u001b[0m\n\u001b[0m\u001b[0;32m     16\u001b[0m         \u001b[0mprint\u001b[0m\u001b[1;33m(\u001b[0m\u001b[1;34m\"JSON creation completed.\"\u001b[0m\u001b[1;33m)\u001b[0m\u001b[1;33m\u001b[0m\u001b[1;33m\u001b[0m\u001b[0m\n\u001b[0;32m     17\u001b[0m         \u001b[0mdetector\u001b[0m\u001b[1;33m.\u001b[0m\u001b[0mextract_data_interval\u001b[0m\u001b[1;33m(\u001b[0m\u001b[1;33m)\u001b[0m\u001b[1;33m\u001b[0m\u001b[1;33m\u001b[0m\u001b[0m\n",
      "\u001b[1;32mc:\\Users\\antho\\Documents\\MEMOIRE_M2\\CODE_STAGE_M2\\code\\main.py\u001b[0m in \u001b[0;36mcreation_json_grace_c3d\u001b[1;34m(self)\u001b[0m\n\u001b[0;32m    478\u001b[0m \u001b[1;33m\u001b[0m\u001b[0m\n\u001b[0;32m    479\u001b[0m         \u001b[0mself\u001b[0m\u001b[1;33m.\u001b[0m\u001b[0mrecuperer_evenements\u001b[0m\u001b[1;33m(\u001b[0m\u001b[1;33m)\u001b[0m \u001b[1;31m# Récupérer les événements\u001b[0m\u001b[1;33m\u001b[0m\u001b[1;33m\u001b[0m\u001b[0m\n\u001b[1;32m--> 480\u001b[1;33m         \u001b[0mself\u001b[0m\u001b[1;33m.\u001b[0m\u001b[0mreechantillonnage_fc_coupure_et_association_labels_et_data\u001b[0m\u001b[1;33m(\u001b[0m\u001b[1;33m)\u001b[0m \u001b[1;31m# Rééchantillonner, filtrer et associer les données\u001b[0m\u001b[1;33m\u001b[0m\u001b[1;33m\u001b[0m\u001b[0m\n\u001b[0m\u001b[0;32m    481\u001b[0m         \u001b[0mself\u001b[0m\u001b[1;33m.\u001b[0m\u001b[0mfiltrer_labels\u001b[0m\u001b[1;33m(\u001b[0m\u001b[1;33m)\u001b[0m \u001b[1;31m# Filtrer les étiquettes pour ne garder que les données de GYRO et ACC\u001b[0m\u001b[1;33m\u001b[0m\u001b[1;33m\u001b[0m\u001b[0m\n\u001b[0;32m    482\u001b[0m         \u001b[0mself\u001b[0m\u001b[1;33m.\u001b[0m\u001b[0mmodifier_label_pelvis\u001b[0m\u001b[1;33m(\u001b[0m\u001b[1;33m)\u001b[0m \u001b[1;31m# Modifier les étiquettes pour le capteur 'pelvis'\u001b[0m\u001b[1;33m\u001b[0m\u001b[1;33m\u001b[0m\u001b[0m\n",
      "\u001b[1;32mc:\\Users\\antho\\Documents\\MEMOIRE_M2\\CODE_STAGE_M2\\code\\main.py\u001b[0m in \u001b[0;36mreechantillonnage_fc_coupure_et_association_labels_et_data\u001b[1;34m(self, cutoff_freq, target_freq)\u001b[0m\n\u001b[0;32m    177\u001b[0m         \u001b[0mresampled_data\u001b[0m \u001b[1;33m=\u001b[0m \u001b[0mnp\u001b[0m\u001b[1;33m.\u001b[0m\u001b[0mzeros\u001b[0m\u001b[1;33m(\u001b[0m\u001b[1;33m(\u001b[0m\u001b[0mlen\u001b[0m\u001b[1;33m(\u001b[0m\u001b[0mlabels\u001b[0m\u001b[1;33m)\u001b[0m\u001b[1;33m,\u001b[0m \u001b[0mnb_samples_target\u001b[0m\u001b[1;33m)\u001b[0m\u001b[1;33m)\u001b[0m \u001b[1;31m# Initialiser un tableau pour stocker les données rééchantillonnées\u001b[0m\u001b[1;33m\u001b[0m\u001b[1;33m\u001b[0m\u001b[0m\n\u001b[0;32m    178\u001b[0m         \u001b[1;32mfor\u001b[0m \u001b[0mi\u001b[0m \u001b[1;32min\u001b[0m \u001b[0mrange\u001b[0m\u001b[1;33m(\u001b[0m\u001b[0mlen\u001b[0m\u001b[1;33m(\u001b[0m\u001b[0mlabels\u001b[0m\u001b[1;33m)\u001b[0m\u001b[1;33m)\u001b[0m\u001b[1;33m:\u001b[0m\u001b[1;33m\u001b[0m\u001b[1;33m\u001b[0m\u001b[0m\n\u001b[1;32m--> 179\u001b[1;33m             \u001b[0mresampled_data\u001b[0m\u001b[1;33m[\u001b[0m\u001b[0mi\u001b[0m\u001b[1;33m,\u001b[0m \u001b[1;33m:\u001b[0m\u001b[1;33m]\u001b[0m \u001b[1;33m=\u001b[0m \u001b[0mresample\u001b[0m\u001b[1;33m(\u001b[0m\u001b[0mdata\u001b[0m\u001b[1;33m[\u001b[0m\u001b[1;36m0\u001b[0m\u001b[1;33m]\u001b[0m\u001b[1;33m[\u001b[0m\u001b[0mi\u001b[0m\u001b[1;33m,\u001b[0m \u001b[1;33m:\u001b[0m\u001b[1;33m]\u001b[0m\u001b[1;33m,\u001b[0m \u001b[0mnb_samples_target\u001b[0m\u001b[1;33m)\u001b[0m\u001b[1;33m\u001b[0m\u001b[1;33m\u001b[0m\u001b[0m\n\u001b[0m\u001b[0;32m    180\u001b[0m \u001b[1;33m\u001b[0m\u001b[0m\n\u001b[0;32m    181\u001b[0m         \u001b[0mfusion_label_data\u001b[0m \u001b[1;33m=\u001b[0m \u001b[1;33m{\u001b[0m\u001b[1;33m}\u001b[0m\u001b[1;33m\u001b[0m\u001b[1;33m\u001b[0m\u001b[0m\n",
      "\u001b[1;32mc:\\Users\\antho\\anaconda3\\lib\\site-packages\\scipy\\signal\\_signaltools.py\u001b[0m in \u001b[0;36mresample\u001b[1;34m(x, num, t, axis, window, domain)\u001b[0m\n\u001b[0;32m   3105\u001b[0m         \u001b[1;31m# Forward transform\u001b[0m\u001b[1;33m\u001b[0m\u001b[1;33m\u001b[0m\u001b[0m\n\u001b[0;32m   3106\u001b[0m         \u001b[1;32mif\u001b[0m \u001b[0mreal_input\u001b[0m\u001b[1;33m:\u001b[0m\u001b[1;33m\u001b[0m\u001b[1;33m\u001b[0m\u001b[0m\n\u001b[1;32m-> 3107\u001b[1;33m             \u001b[0mX\u001b[0m \u001b[1;33m=\u001b[0m \u001b[0msp_fft\u001b[0m\u001b[1;33m.\u001b[0m\u001b[0mrfft\u001b[0m\u001b[1;33m(\u001b[0m\u001b[0mx\u001b[0m\u001b[1;33m,\u001b[0m \u001b[0maxis\u001b[0m\u001b[1;33m=\u001b[0m\u001b[0maxis\u001b[0m\u001b[1;33m)\u001b[0m\u001b[1;33m\u001b[0m\u001b[1;33m\u001b[0m\u001b[0m\n\u001b[0m\u001b[0;32m   3108\u001b[0m         \u001b[1;32melse\u001b[0m\u001b[1;33m:\u001b[0m  \u001b[1;31m# Full complex FFT\u001b[0m\u001b[1;33m\u001b[0m\u001b[1;33m\u001b[0m\u001b[0m\n\u001b[0;32m   3109\u001b[0m             \u001b[0mX\u001b[0m \u001b[1;33m=\u001b[0m \u001b[0msp_fft\u001b[0m\u001b[1;33m.\u001b[0m\u001b[0mfft\u001b[0m\u001b[1;33m(\u001b[0m\u001b[0mx\u001b[0m\u001b[1;33m,\u001b[0m \u001b[0maxis\u001b[0m\u001b[1;33m=\u001b[0m\u001b[0maxis\u001b[0m\u001b[1;33m)\u001b[0m\u001b[1;33m\u001b[0m\u001b[1;33m\u001b[0m\u001b[0m\n",
      "\u001b[1;32mc:\\Users\\antho\\anaconda3\\lib\\site-packages\\scipy\\fft\\_backend.py\u001b[0m in \u001b[0;36m__ua_function__\u001b[1;34m(method, args, kwargs)\u001b[0m\n\u001b[0;32m     23\u001b[0m         \u001b[1;32mif\u001b[0m \u001b[0mfn\u001b[0m \u001b[1;32mis\u001b[0m \u001b[1;32mNone\u001b[0m\u001b[1;33m:\u001b[0m\u001b[1;33m\u001b[0m\u001b[1;33m\u001b[0m\u001b[0m\n\u001b[0;32m     24\u001b[0m             \u001b[1;32mreturn\u001b[0m \u001b[0mNotImplemented\u001b[0m\u001b[1;33m\u001b[0m\u001b[1;33m\u001b[0m\u001b[0m\n\u001b[1;32m---> 25\u001b[1;33m         \u001b[1;32mreturn\u001b[0m \u001b[0mfn\u001b[0m\u001b[1;33m(\u001b[0m\u001b[1;33m*\u001b[0m\u001b[0margs\u001b[0m\u001b[1;33m,\u001b[0m \u001b[1;33m**\u001b[0m\u001b[0mkwargs\u001b[0m\u001b[1;33m)\u001b[0m\u001b[1;33m\u001b[0m\u001b[1;33m\u001b[0m\u001b[0m\n\u001b[0m\u001b[0;32m     26\u001b[0m \u001b[1;33m\u001b[0m\u001b[0m\n\u001b[0;32m     27\u001b[0m \u001b[1;33m\u001b[0m\u001b[0m\n",
      "\u001b[1;32mc:\\Users\\antho\\anaconda3\\lib\\site-packages\\scipy\\fft\\_pocketfft\\basic.py\u001b[0m in \u001b[0;36mr2c\u001b[1;34m(forward, x, n, axis, norm, overwrite_x, workers, plan)\u001b[0m\n\u001b[0;32m     60\u001b[0m \u001b[1;33m\u001b[0m\u001b[0m\n\u001b[0;32m     61\u001b[0m     \u001b[1;31m# Note: overwrite_x is not utilised\u001b[0m\u001b[1;33m\u001b[0m\u001b[1;33m\u001b[0m\u001b[0m\n\u001b[1;32m---> 62\u001b[1;33m     \u001b[1;32mreturn\u001b[0m \u001b[0mpfft\u001b[0m\u001b[1;33m.\u001b[0m\u001b[0mr2c\u001b[0m\u001b[1;33m(\u001b[0m\u001b[0mtmp\u001b[0m\u001b[1;33m,\u001b[0m \u001b[1;33m(\u001b[0m\u001b[0maxis\u001b[0m\u001b[1;33m,\u001b[0m\u001b[1;33m)\u001b[0m\u001b[1;33m,\u001b[0m \u001b[0mforward\u001b[0m\u001b[1;33m,\u001b[0m \u001b[0mnorm\u001b[0m\u001b[1;33m,\u001b[0m \u001b[1;32mNone\u001b[0m\u001b[1;33m,\u001b[0m \u001b[0mworkers\u001b[0m\u001b[1;33m)\u001b[0m\u001b[1;33m\u001b[0m\u001b[1;33m\u001b[0m\u001b[0m\n\u001b[0m\u001b[0;32m     63\u001b[0m \u001b[1;33m\u001b[0m\u001b[0m\n\u001b[0;32m     64\u001b[0m \u001b[1;33m\u001b[0m\u001b[0m\n",
      "\u001b[1;31mKeyboardInterrupt\u001b[0m: "
     ]
    }
   ],
   "source": [
    "def batch_process_c3d(directory_path):\n",
    "    # DataFrame global pour stocker tous les résultats\n",
    "    global_df = pd.DataFrame()\n",
    "\n",
    "    # List all c3d files in the specified directory\n",
    "    c3d_files = [f for f in os.listdir(directory_path) if f.endswith('.c3d')]\n",
    "    \n",
    "    print(f\"Found {len(c3d_files)} c3d files to process.\")\n",
    "    for file_index, file_name in enumerate(c3d_files):\n",
    "        file_path = os.path.join(directory_path, file_name)\n",
    "        print(f\"Processing file {file_index + 1}/{len(c3d_files)}: {file_name}\")\n",
    "        \n",
    "        # Process each c3d file\n",
    "        detector = PreProcessing(file_path)\n",
    "        detector.creation_json_grace_c3d()\n",
    "        print(\"JSON creation completed.\")\n",
    "        detector.extract_data_interval()\n",
    "        detector.normalize_data()\n",
    "        detector.decoupage_en_fenetres()\n",
    "        detector.label_fenetre()\n",
    "        detector.association_label_fenetre_data()\n",
    "        data = detector.concat_label_fenetre_data()\n",
    "        print(\"Data processing and labeling completed.\")\n",
    "\n",
    "        # Instance of Statistics and calculation of the statistics\n",
    "        stats_processor = Statistics(file_path, data)\n",
    "        statistiques_resultat = stats_processor.stats()\n",
    "        global_df = pd.concat([global_df, statistiques_resultat], ignore_index=True)\n",
    "        print(f\"Statistics computed for {file_name}.\")\n",
    "\n",
    "    print(\"All files have been processed.\")\n",
    "    return global_df\n",
    "\n",
    "# Path to your C3D files directory\n",
    "directory_path = 'C:/Users/antho/Documents/MEMOIRE_M2/c3d_audeline/'\n",
    "final_df = batch_process_c3d(directory_path)\n",
    "\n",
    "# # Optionally save the final DataFrame to a CSV file\n",
    "# final_df.to_csv('final_statistics.csv', index=False)\n",
    "# print(\"Final statistics have been saved to CSV.\")\n"
   ]
  },
  {
   "cell_type": "code",
   "execution_count": 4,
   "metadata": {},
   "outputs": [],
   "source": [
    "output_path = 'C:/Users/antho/Documents/MEMOIRE_M2/final_statistics.xlsx'\n",
    "final_df.to_excel(output_path, index=False)"
   ]
  },
  {
   "cell_type": "markdown",
   "metadata": {},
   "source": [
    "# Fichier Unique"
   ]
  },
  {
   "cell_type": "code",
   "execution_count": 3,
   "metadata": {},
   "outputs": [],
   "source": [
    "file_path = \"C:/Users/antho/Documents/MEMOIRE_M2/c3d_audeline/A_P_1956-02-21_ON_DM_4.c3d\"\n",
    "# Instancier l'objet DetectFog\n",
    "detector = PreProcessing(file_path)\n",
    "# plt.plot(detector.c3d['data']['analogs'][0][0,:])\n",
    "detector.creation_json_grace_c3d()\n",
    "# detector.plot_data_FOG(\"Foot\", \"Left\", \"ACC\", \"X\")\n",
    "\n",
    "detector.extract_data_interval()\n",
    "# detector.plot_data_FOG_start_end(\"Foot\", \"Left\", \"ACC\", \"X\")\n",
    "\n",
    "# detector.plot_data_FOG_start_end(\"Rectus Femoris\", \"Left\", \"ACC\", \"X\")\n",
    "detector.normalize_data() \n",
    "detector.decoupage_en_fenetres()\n",
    "detector.label_fenetre()\n",
    "detector.association_label_fenetre_data()\n",
    "data = detector.concat_label_fenetre_data()\n",
    "# detector.plot_data_FOG_start_end_final(\"Rectus Femoris\", \"Left\", \"ACC\", \"norme\",10) # trouver une solution pour le temps\n",
    "# detector.plot_data_FOG_start_end_final(\"Foot\", \"Left\", \"ACC\", \"norme\",10) # trouver une solution pour le temps\n",
    "\n",
    "# Création de l'instance de Statistics et calcul des statistiques\n",
    "stats_processor = Statistics(file_path,data)\n",
    "statistiques_resultat = stats_processor.stats()"
   ]
  }
 ],
 "metadata": {
  "kernelspec": {
   "display_name": "base",
   "language": "python",
   "name": "python3"
  },
  "language_info": {
   "codemirror_mode": {
    "name": "ipython",
    "version": 3
   },
   "file_extension": ".py",
   "mimetype": "text/x-python",
   "name": "python",
   "nbconvert_exporter": "python",
   "pygments_lexer": "ipython3",
   "version": "3.9.13"
  }
 },
 "nbformat": 4,
 "nbformat_minor": 2
}
