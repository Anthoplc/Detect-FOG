{
 "cells": [
  {
   "cell_type": "code",
   "execution_count": 6,
   "metadata": {},
   "outputs": [],
   "source": [
    "import pandas as pd\n",
    "import numpy as np\n",
    "from sklearn.model_selection import train_test_split\n",
    "from skrebate import ReliefF\n",
    "from sklearn.preprocessing import StandardScaler\n",
    "import numpy as np\n",
    "from sklearn.datasets import make_classification\n",
    "from sklearn.model_selection import train_test_split, GridSearchCV, StratifiedKFold\n",
    "from sklearn.metrics import classification_report\n",
    "from sklearn.linear_model import LogisticRegression\n",
    "from sklearn.ensemble import RandomForestClassifier\n",
    "from imblearn.pipeline import Pipeline\n",
    "from imblearn.over_sampling import SMOTE\n",
    "from sklearn.tree import DecisionTreeClassifier\n",
    "from imblearn.over_sampling import BorderlineSMOTE\n",
    "from imblearn.under_sampling import RandomUnderSampler\n",
    "import numpy as np\n",
    "import os\n",
    "from sklearn.datasets import make_classification\n",
    "from sklearn.model_selection import train_test_split, GridSearchCV\n",
    "from skrebate import ReliefF\n",
    "from sklearn.metrics import make_scorer, accuracy_score"
   ]
  },
  {
   "cell_type": "code",
   "execution_count": null,
   "metadata": {},
   "outputs": [],
   "source": [
    "import os\n",
    "import pandas as pd\n",
    "from sklearn.preprocessing import StandardScaler\n",
    "from sklearn.model_selection import train_test_split, StratifiedKFold, cross_val_score\n",
    "from sklearn.tree import DecisionTreeClassifier\n",
    "from imblearn.pipeline import Pipeline\n",
    "from imblearn.over_sampling import SMOTE\n",
    "from imblearn.under_sampling import RandomUnderSampler\n",
    "from numpy import mean\n",
    "\n",
    "def apply_resampling_pipeline(filepath):\n",
    "    print(f\"Traitement du fichier {filepath}...\")\n",
    "    try:\n",
    "        data = pd.read_csv(filepath)\n",
    "        data_filtered = data.dropna(axis=1)\n",
    "        data_filtered = data_filtered[data_filtered['label'] != 'transitionNoFog']\n",
    "        X = data_filtered.drop('label', axis=1)\n",
    "        y = data_filtered['label'].apply(lambda x: 1 if x in ['fog', 'transitionFog'] else 0)\n",
    "\n",
    "        scaler = StandardScaler()\n",
    "        X_scaled = pd.DataFrame(scaler.fit_transform(X), columns=X.columns)\n",
    "        X_train, X_test, y_train, y_test = train_test_split(X_scaled, y, test_size=0.3, shuffle=True, stratify=y, random_state=42)\n",
    "\n",
    "        # Calculate class counts\n",
    "        class_counts = y_train.value_counts()\n",
    "        # Check class balance in the training set\n",
    "        if class_counts.get(1, 0) >= class_counts.get(0, 0):\n",
    "            print(f\"No resampling needed for {filepath}, because class 1 count >= class 0 count\")\n",
    "            \n",
    "            # Evaluate pipeline\n",
    "            cv = StratifiedKFold(n_splits=10, shuffle=True, stratify = y_train, random_state=42)\n",
    "            scores = cross_val_score(pipeline, X_train, y_train, scoring='roc_auc', cv=cv, n_jobs=-1)\n",
    "            mean_score = mean(scores)\n",
    "            \n",
    "            return {'File': filepath, 'SMOTE Strategy': 'None', 'ROC AUC Score': mean_score, 'Note': 'No resampling due to class 1 >= class 0'}\n",
    "        else:\n",
    "            # Setup resampling and model\n",
    "            # smote = SMOTE(sampling_strategy=smote_strategy, random_state=42)\n",
    "            over_sampler = BorderlineSMOTE(sampling_strategy=1, random_state=42)\n",
    "            model = DecisionTreeClassifier(random_state=42)\n",
    "            steps = [('over_sampler', over_sampler), ('model', model)]\n",
    "            pipeline = Pipeline(steps)\n",
    "\n",
    "            # Evaluate pipeline\n",
    "            cv = StratifiedKFold(n_splits=10, shuffle=True, stratify = y_train, random_state=42)\n",
    "            scores = cross_val_score(pipeline, X_train, y_train, scoring='roc_auc', cv=cv, n_jobs=-1)\n",
    "            mean_score = mean(scores)\n",
    "            return {'File': filepath, 'Over Strategy': 1, 'ROC AUC Score': mean_score, 'Note': 'Resampling applied'}\n",
    "\n",
    "    except Exception as e:\n",
    "        print(f\"Error processing {filepath}: {str(e)}\")\n",
    "        return None\n",
    "\n",
    "# Path to directory\n",
    "directory_path = 'C:/Users/antho/Documents/MEMOIRE_M2/c3d_audeline/ON_OFF_all_features/'\n",
    "\n",
    "over_strategies = 1\n",
    "\n",
    "# DataFrame to store results\n",
    "results_df = pd.DataFrame()\n",
    "\n",
    "# Process each file with each combination of resampling strategies\n",
    "for filename in os.listdir(directory_path):\n",
    "    if filename.endswith(\".csv\"):\n",
    "        filepath = os.path.join(directory_path, filename)\n",
    "        result = apply_resampling_pipeline(filepath)\n",
    "        results_df = results_df.append(result, ignore_index=True)\n",
    "        print(f\"Added results for {filename} with OVER {1} to the DataFrame.\")\n",
    "\n",
    "# Filter out the rows where ROC AUC Score is 'N/A'\n",
    "valid_results = results_df[results_df['ROC AUC Score'] != 'N/A']\n",
    "\n",
    "# Find the best combination based on ROC AUC Score\n",
    "if not valid_results.empty:\n",
    "    best_combination = valid_results.loc[valid_results['ROC AUC Score'].idxmax()]\n",
    "    print(f\"The best resampling combination is UNDER {best_combination['Under Strategy']} with an ROC AUC Score of {best_combination['ROC AUC Score']}\")\n",
    "\n",
    "# Save results\n",
    "results_file = 'C:/Users/antho/Documents/MEMOIRE_M2/c3d_audeline/resultats_resampling/results_combinations_over_100.csv'\n",
    "results_df.to_csv(results_file, index=False)\n",
    "print(f\"Results saved to {results_file}.\")\n"
   ]
  },
  {
   "cell_type": "code",
   "execution_count": null,
   "metadata": {},
   "outputs": [],
   "source": []
  },
  {
   "cell_type": "code",
   "execution_count": null,
   "metadata": {},
   "outputs": [],
   "source": []
  },
  {
   "cell_type": "code",
   "execution_count": null,
   "metadata": {},
   "outputs": [],
   "source": []
  },
  {
   "cell_type": "code",
   "execution_count": 3,
   "metadata": {},
   "outputs": [],
   "source": [
    "def apply_vc_resampling_pipeline(filepath, smote_strategy, under_strategy):\n",
    "    print(f\"Démarrage du traitement pour {filepath} avec SMOTE {smote_strategy} et UNDER {under_strategy}\")\n",
    "    try:\n",
    "        data = pd.read_csv(filepath)\n",
    "        data_filtered = data.dropna(axis=1)\n",
    "        data_filtered = data_filtered[data_filtered['label'] != 'transitionNoFog']\n",
    "        X = data_filtered.drop('label', axis=1)\n",
    "        y = data_filtered['label'].apply(lambda x: 1 if x in ['fog', 'transitionFog'] else 0)\n",
    "        X_scaled = StandardScaler().fit_transform(X)\n",
    "        X_train, _, y_train, _ = train_test_split(X_scaled, y, test_size=0.3, shuffle=True, stratify=y, random_state=42)\n",
    "        \n",
    "        model = DecisionTreeClassifier(random_state=42)\n",
    "        steps = [('model', model)]\n",
    "        if y_train.value_counts().get(1, 0) < y_train.value_counts().get(0, 0):\n",
    "            steps = [('smote', SMOTE(sampling_strategy=smote_strategy, random_state=42)),\n",
    "                     ('under_sampler', RandomUnderSampler(sampling_strategy=under_strategy, random_state=42))] + steps\n",
    "        pipeline = Pipeline(steps)\n",
    "        scores = cross_val_score(pipeline, X_train, y_train, scoring='roc_auc', cv=StratifiedKFold(n_splits=10, shuffle=True, random_state=42), n_jobs=-1)\n",
    "        print(f\"Traitement terminé pour {filepath} avec un score ROC AUC moyen de {mean(scores)}\")\n",
    "        return {\n",
    "            'File': filepath,\n",
    "            'SMOTE Strategy': smote_strategy if 'smote' in steps[0] else 'None',\n",
    "            'Under Strategy': under_strategy if 'under_sampler' in steps[1] else 'None',\n",
    "            'ROC AUC Score': mean(scores),\n",
    "            'Note': 'No resampling due to class 1 >= class 0' if 'model' in steps[0] else 'Resampling applied'\n",
    "        }\n",
    "    except Exception as e:\n",
    "        error_message = \"Ratio impossible\" if \"The specified ratio\" in str(e) else str(e)\n",
    "        print(f\"Erreur lors du traitement de {filepath}: {error_message}\")\n",
    "        return {'File': filepath, 'Error': error_message}\n",
    "    \n"
   ]
  },
  {
   "cell_type": "code",
   "execution_count": 7,
   "metadata": {},
   "outputs": [
    {
     "name": "stdout",
     "output_type": "stream",
     "text": [
      "Démarrage du traitement pour C:/Users/antho/Documents/MEMOIRE_M2/c3d_audeline/ON_OFF_all_features/A_P_1956-02-21_OFF_OFF_all_extraction_features.csv avec SMOTE 0.1 et UNDER 0.1\n",
      "Erreur lors du traitement de C:/Users/antho/Documents/MEMOIRE_M2/c3d_audeline/ON_OFF_all_features/A_P_1956-02-21_OFF_OFF_all_extraction_features.csv: name 'cross_val_score' is not defined\n",
      "Added results for A_P_1956-02-21_OFF_OFF_all_extraction_features.csv with SMOTE 0.1 and UNDER 0.1 to the DataFrame.\n",
      "Démarrage du traitement pour C:/Users/antho/Documents/MEMOIRE_M2/c3d_audeline/ON_OFF_all_features/A_P_1956-02-21_OFF_OFF_all_extraction_features.csv avec SMOTE 0.1 et UNDER 0.2\n"
     ]
    },
    {
     "name": "stderr",
     "output_type": "stream",
     "text": [
      "C:\\Users\\antho\\AppData\\Local\\Temp\\ipykernel_14612\\1482242868.py:18: FutureWarning: The frame.append method is deprecated and will be removed from pandas in a future version. Use pandas.concat instead.\n",
      "  results_df = results_df.append(result, ignore_index=True)\n"
     ]
    },
    {
     "name": "stdout",
     "output_type": "stream",
     "text": [
      "Erreur lors du traitement de C:/Users/antho/Documents/MEMOIRE_M2/c3d_audeline/ON_OFF_all_features/A_P_1956-02-21_OFF_OFF_all_extraction_features.csv: name 'cross_val_score' is not defined\n",
      "Added results for A_P_1956-02-21_OFF_OFF_all_extraction_features.csv with SMOTE 0.1 and UNDER 0.2 to the DataFrame.\n",
      "Démarrage du traitement pour C:/Users/antho/Documents/MEMOIRE_M2/c3d_audeline/ON_OFF_all_features/A_P_1956-02-21_OFF_OFF_all_extraction_features.csv avec SMOTE 0.1 et UNDER 0.3\n"
     ]
    },
    {
     "name": "stderr",
     "output_type": "stream",
     "text": [
      "C:\\Users\\antho\\AppData\\Local\\Temp\\ipykernel_14612\\1482242868.py:18: FutureWarning: The frame.append method is deprecated and will be removed from pandas in a future version. Use pandas.concat instead.\n",
      "  results_df = results_df.append(result, ignore_index=True)\n"
     ]
    },
    {
     "name": "stdout",
     "output_type": "stream",
     "text": [
      "Erreur lors du traitement de C:/Users/antho/Documents/MEMOIRE_M2/c3d_audeline/ON_OFF_all_features/A_P_1956-02-21_OFF_OFF_all_extraction_features.csv: name 'cross_val_score' is not defined\n",
      "Added results for A_P_1956-02-21_OFF_OFF_all_extraction_features.csv with SMOTE 0.1 and UNDER 0.3 to the DataFrame.\n",
      "Démarrage du traitement pour C:/Users/antho/Documents/MEMOIRE_M2/c3d_audeline/ON_OFF_all_features/A_P_1956-02-21_OFF_OFF_all_extraction_features.csv avec SMOTE 0.1 et UNDER 0.4\n"
     ]
    },
    {
     "name": "stderr",
     "output_type": "stream",
     "text": [
      "C:\\Users\\antho\\AppData\\Local\\Temp\\ipykernel_14612\\1482242868.py:18: FutureWarning: The frame.append method is deprecated and will be removed from pandas in a future version. Use pandas.concat instead.\n",
      "  results_df = results_df.append(result, ignore_index=True)\n"
     ]
    },
    {
     "name": "stdout",
     "output_type": "stream",
     "text": [
      "Erreur lors du traitement de C:/Users/antho/Documents/MEMOIRE_M2/c3d_audeline/ON_OFF_all_features/A_P_1956-02-21_OFF_OFF_all_extraction_features.csv: name 'cross_val_score' is not defined\n",
      "Added results for A_P_1956-02-21_OFF_OFF_all_extraction_features.csv with SMOTE 0.1 and UNDER 0.4 to the DataFrame.\n",
      "Démarrage du traitement pour C:/Users/antho/Documents/MEMOIRE_M2/c3d_audeline/ON_OFF_all_features/A_P_1956-02-21_OFF_OFF_all_extraction_features.csv avec SMOTE 0.1 et UNDER 0.5\n"
     ]
    },
    {
     "name": "stderr",
     "output_type": "stream",
     "text": [
      "C:\\Users\\antho\\AppData\\Local\\Temp\\ipykernel_14612\\1482242868.py:18: FutureWarning: The frame.append method is deprecated and will be removed from pandas in a future version. Use pandas.concat instead.\n",
      "  results_df = results_df.append(result, ignore_index=True)\n"
     ]
    },
    {
     "ename": "KeyboardInterrupt",
     "evalue": "",
     "output_type": "error",
     "traceback": [
      "\u001b[1;31m---------------------------------------------------------------------------\u001b[0m",
      "\u001b[1;31mKeyboardInterrupt\u001b[0m                         Traceback (most recent call last)",
      "\u001b[1;32m~\\AppData\\Local\\Temp\\ipykernel_14612\\1482242868.py\u001b[0m in \u001b[0;36m<module>\u001b[1;34m\u001b[0m\n\u001b[0;32m     15\u001b[0m         \u001b[1;32mfor\u001b[0m \u001b[0msmote_strategy\u001b[0m \u001b[1;32min\u001b[0m \u001b[0msmote_strategies\u001b[0m\u001b[1;33m:\u001b[0m\u001b[1;33m\u001b[0m\u001b[1;33m\u001b[0m\u001b[0m\n\u001b[0;32m     16\u001b[0m             \u001b[1;32mfor\u001b[0m \u001b[0munder_strategy\u001b[0m \u001b[1;32min\u001b[0m \u001b[0munder_strategies\u001b[0m\u001b[1;33m:\u001b[0m\u001b[1;33m\u001b[0m\u001b[1;33m\u001b[0m\u001b[0m\n\u001b[1;32m---> 17\u001b[1;33m                 \u001b[0mresult\u001b[0m \u001b[1;33m=\u001b[0m \u001b[0mapply_vc_resampling_pipeline\u001b[0m\u001b[1;33m(\u001b[0m\u001b[0mfilepath\u001b[0m\u001b[1;33m,\u001b[0m \u001b[0msmote_strategy\u001b[0m\u001b[1;33m,\u001b[0m \u001b[0munder_strategy\u001b[0m\u001b[1;33m)\u001b[0m\u001b[1;33m\u001b[0m\u001b[1;33m\u001b[0m\u001b[0m\n\u001b[0m\u001b[0;32m     18\u001b[0m                 \u001b[0mresults_df\u001b[0m \u001b[1;33m=\u001b[0m \u001b[0mresults_df\u001b[0m\u001b[1;33m.\u001b[0m\u001b[0mappend\u001b[0m\u001b[1;33m(\u001b[0m\u001b[0mresult\u001b[0m\u001b[1;33m,\u001b[0m \u001b[0mignore_index\u001b[0m\u001b[1;33m=\u001b[0m\u001b[1;32mTrue\u001b[0m\u001b[1;33m)\u001b[0m\u001b[1;33m\u001b[0m\u001b[1;33m\u001b[0m\u001b[0m\n\u001b[0;32m     19\u001b[0m                 \u001b[0mprint\u001b[0m\u001b[1;33m(\u001b[0m\u001b[1;34mf\"Added results for {filename} with SMOTE {smote_strategy} and UNDER {under_strategy} to the DataFrame.\"\u001b[0m\u001b[1;33m)\u001b[0m\u001b[1;33m\u001b[0m\u001b[1;33m\u001b[0m\u001b[0m\n",
      "\u001b[1;32m~\\AppData\\Local\\Temp\\ipykernel_14612\\353295383.py\u001b[0m in \u001b[0;36mapply_vc_resampling_pipeline\u001b[1;34m(filepath, smote_strategy, under_strategy)\u001b[0m\n\u001b[0;32m      2\u001b[0m     \u001b[0mprint\u001b[0m\u001b[1;33m(\u001b[0m\u001b[1;34mf\"Démarrage du traitement pour {filepath} avec SMOTE {smote_strategy} et UNDER {under_strategy}\"\u001b[0m\u001b[1;33m)\u001b[0m\u001b[1;33m\u001b[0m\u001b[1;33m\u001b[0m\u001b[0m\n\u001b[0;32m      3\u001b[0m     \u001b[1;32mtry\u001b[0m\u001b[1;33m:\u001b[0m\u001b[1;33m\u001b[0m\u001b[1;33m\u001b[0m\u001b[0m\n\u001b[1;32m----> 4\u001b[1;33m         \u001b[0mdata\u001b[0m \u001b[1;33m=\u001b[0m \u001b[0mpd\u001b[0m\u001b[1;33m.\u001b[0m\u001b[0mread_csv\u001b[0m\u001b[1;33m(\u001b[0m\u001b[0mfilepath\u001b[0m\u001b[1;33m)\u001b[0m\u001b[1;33m\u001b[0m\u001b[1;33m\u001b[0m\u001b[0m\n\u001b[0m\u001b[0;32m      5\u001b[0m         \u001b[0mdata_filtered\u001b[0m \u001b[1;33m=\u001b[0m \u001b[0mdata\u001b[0m\u001b[1;33m.\u001b[0m\u001b[0mdropna\u001b[0m\u001b[1;33m(\u001b[0m\u001b[0maxis\u001b[0m\u001b[1;33m=\u001b[0m\u001b[1;36m1\u001b[0m\u001b[1;33m)\u001b[0m\u001b[1;33m\u001b[0m\u001b[1;33m\u001b[0m\u001b[0m\n\u001b[0;32m      6\u001b[0m         \u001b[0mdata_filtered\u001b[0m \u001b[1;33m=\u001b[0m \u001b[0mdata_filtered\u001b[0m\u001b[1;33m[\u001b[0m\u001b[0mdata_filtered\u001b[0m\u001b[1;33m[\u001b[0m\u001b[1;34m'label'\u001b[0m\u001b[1;33m]\u001b[0m \u001b[1;33m!=\u001b[0m \u001b[1;34m'transitionNoFog'\u001b[0m\u001b[1;33m]\u001b[0m\u001b[1;33m\u001b[0m\u001b[1;33m\u001b[0m\u001b[0m\n",
      "\u001b[1;32mc:\\Users\\antho\\anaconda3\\lib\\site-packages\\pandas\\util\\_decorators.py\u001b[0m in \u001b[0;36mwrapper\u001b[1;34m(*args, **kwargs)\u001b[0m\n\u001b[0;32m    209\u001b[0m                 \u001b[1;32melse\u001b[0m\u001b[1;33m:\u001b[0m\u001b[1;33m\u001b[0m\u001b[1;33m\u001b[0m\u001b[0m\n\u001b[0;32m    210\u001b[0m                     \u001b[0mkwargs\u001b[0m\u001b[1;33m[\u001b[0m\u001b[0mnew_arg_name\u001b[0m\u001b[1;33m]\u001b[0m \u001b[1;33m=\u001b[0m \u001b[0mnew_arg_value\u001b[0m\u001b[1;33m\u001b[0m\u001b[1;33m\u001b[0m\u001b[0m\n\u001b[1;32m--> 211\u001b[1;33m             \u001b[1;32mreturn\u001b[0m \u001b[0mfunc\u001b[0m\u001b[1;33m(\u001b[0m\u001b[1;33m*\u001b[0m\u001b[0margs\u001b[0m\u001b[1;33m,\u001b[0m \u001b[1;33m**\u001b[0m\u001b[0mkwargs\u001b[0m\u001b[1;33m)\u001b[0m\u001b[1;33m\u001b[0m\u001b[1;33m\u001b[0m\u001b[0m\n\u001b[0m\u001b[0;32m    212\u001b[0m \u001b[1;33m\u001b[0m\u001b[0m\n\u001b[0;32m    213\u001b[0m         \u001b[1;32mreturn\u001b[0m \u001b[0mcast\u001b[0m\u001b[1;33m(\u001b[0m\u001b[0mF\u001b[0m\u001b[1;33m,\u001b[0m \u001b[0mwrapper\u001b[0m\u001b[1;33m)\u001b[0m\u001b[1;33m\u001b[0m\u001b[1;33m\u001b[0m\u001b[0m\n",
      "\u001b[1;32mc:\\Users\\antho\\anaconda3\\lib\\site-packages\\pandas\\util\\_decorators.py\u001b[0m in \u001b[0;36mwrapper\u001b[1;34m(*args, **kwargs)\u001b[0m\n\u001b[0;32m    329\u001b[0m                     \u001b[0mstacklevel\u001b[0m\u001b[1;33m=\u001b[0m\u001b[0mfind_stack_level\u001b[0m\u001b[1;33m(\u001b[0m\u001b[1;33m)\u001b[0m\u001b[1;33m,\u001b[0m\u001b[1;33m\u001b[0m\u001b[1;33m\u001b[0m\u001b[0m\n\u001b[0;32m    330\u001b[0m                 )\n\u001b[1;32m--> 331\u001b[1;33m             \u001b[1;32mreturn\u001b[0m \u001b[0mfunc\u001b[0m\u001b[1;33m(\u001b[0m\u001b[1;33m*\u001b[0m\u001b[0margs\u001b[0m\u001b[1;33m,\u001b[0m \u001b[1;33m**\u001b[0m\u001b[0mkwargs\u001b[0m\u001b[1;33m)\u001b[0m\u001b[1;33m\u001b[0m\u001b[1;33m\u001b[0m\u001b[0m\n\u001b[0m\u001b[0;32m    332\u001b[0m \u001b[1;33m\u001b[0m\u001b[0m\n\u001b[0;32m    333\u001b[0m         \u001b[1;31m# error: \"Callable[[VarArg(Any), KwArg(Any)], Any]\" has no\u001b[0m\u001b[1;33m\u001b[0m\u001b[1;33m\u001b[0m\u001b[0m\n",
      "\u001b[1;32mc:\\Users\\antho\\anaconda3\\lib\\site-packages\\pandas\\io\\parsers\\readers.py\u001b[0m in \u001b[0;36mread_csv\u001b[1;34m(filepath_or_buffer, sep, delimiter, header, names, index_col, usecols, squeeze, prefix, mangle_dupe_cols, dtype, engine, converters, true_values, false_values, skipinitialspace, skiprows, skipfooter, nrows, na_values, keep_default_na, na_filter, verbose, skip_blank_lines, parse_dates, infer_datetime_format, keep_date_col, date_parser, dayfirst, cache_dates, iterator, chunksize, compression, thousands, decimal, lineterminator, quotechar, quoting, doublequote, escapechar, comment, encoding, encoding_errors, dialect, error_bad_lines, warn_bad_lines, on_bad_lines, delim_whitespace, low_memory, memory_map, float_precision, storage_options)\u001b[0m\n\u001b[0;32m    948\u001b[0m     \u001b[0mkwds\u001b[0m\u001b[1;33m.\u001b[0m\u001b[0mupdate\u001b[0m\u001b[1;33m(\u001b[0m\u001b[0mkwds_defaults\u001b[0m\u001b[1;33m)\u001b[0m\u001b[1;33m\u001b[0m\u001b[1;33m\u001b[0m\u001b[0m\n\u001b[0;32m    949\u001b[0m \u001b[1;33m\u001b[0m\u001b[0m\n\u001b[1;32m--> 950\u001b[1;33m     \u001b[1;32mreturn\u001b[0m \u001b[0m_read\u001b[0m\u001b[1;33m(\u001b[0m\u001b[0mfilepath_or_buffer\u001b[0m\u001b[1;33m,\u001b[0m \u001b[0mkwds\u001b[0m\u001b[1;33m)\u001b[0m\u001b[1;33m\u001b[0m\u001b[1;33m\u001b[0m\u001b[0m\n\u001b[0m\u001b[0;32m    951\u001b[0m \u001b[1;33m\u001b[0m\u001b[0m\n\u001b[0;32m    952\u001b[0m \u001b[1;33m\u001b[0m\u001b[0m\n",
      "\u001b[1;32mc:\\Users\\antho\\anaconda3\\lib\\site-packages\\pandas\\io\\parsers\\readers.py\u001b[0m in \u001b[0;36m_read\u001b[1;34m(filepath_or_buffer, kwds)\u001b[0m\n\u001b[0;32m    609\u001b[0m \u001b[1;33m\u001b[0m\u001b[0m\n\u001b[0;32m    610\u001b[0m     \u001b[1;32mwith\u001b[0m \u001b[0mparser\u001b[0m\u001b[1;33m:\u001b[0m\u001b[1;33m\u001b[0m\u001b[1;33m\u001b[0m\u001b[0m\n\u001b[1;32m--> 611\u001b[1;33m         \u001b[1;32mreturn\u001b[0m \u001b[0mparser\u001b[0m\u001b[1;33m.\u001b[0m\u001b[0mread\u001b[0m\u001b[1;33m(\u001b[0m\u001b[0mnrows\u001b[0m\u001b[1;33m)\u001b[0m\u001b[1;33m\u001b[0m\u001b[1;33m\u001b[0m\u001b[0m\n\u001b[0m\u001b[0;32m    612\u001b[0m \u001b[1;33m\u001b[0m\u001b[0m\n\u001b[0;32m    613\u001b[0m \u001b[1;33m\u001b[0m\u001b[0m\n",
      "\u001b[1;32mc:\\Users\\antho\\anaconda3\\lib\\site-packages\\pandas\\io\\parsers\\readers.py\u001b[0m in \u001b[0;36mread\u001b[1;34m(self, nrows)\u001b[0m\n\u001b[0;32m   1776\u001b[0m                     \u001b[0mcolumns\u001b[0m\u001b[1;33m,\u001b[0m\u001b[1;33m\u001b[0m\u001b[1;33m\u001b[0m\u001b[0m\n\u001b[0;32m   1777\u001b[0m                     \u001b[0mcol_dict\u001b[0m\u001b[1;33m,\u001b[0m\u001b[1;33m\u001b[0m\u001b[1;33m\u001b[0m\u001b[0m\n\u001b[1;32m-> 1778\u001b[1;33m                 \u001b[1;33m)\u001b[0m \u001b[1;33m=\u001b[0m \u001b[0mself\u001b[0m\u001b[1;33m.\u001b[0m\u001b[0m_engine\u001b[0m\u001b[1;33m.\u001b[0m\u001b[0mread\u001b[0m\u001b[1;33m(\u001b[0m  \u001b[1;31m# type: ignore[attr-defined]\u001b[0m\u001b[1;33m\u001b[0m\u001b[1;33m\u001b[0m\u001b[0m\n\u001b[0m\u001b[0;32m   1779\u001b[0m                     \u001b[0mnrows\u001b[0m\u001b[1;33m\u001b[0m\u001b[1;33m\u001b[0m\u001b[0m\n\u001b[0;32m   1780\u001b[0m                 )\n",
      "\u001b[1;32mc:\\Users\\antho\\anaconda3\\lib\\site-packages\\pandas\\io\\parsers\\c_parser_wrapper.py\u001b[0m in \u001b[0;36mread\u001b[1;34m(self, nrows)\u001b[0m\n\u001b[0;32m    228\u001b[0m         \u001b[1;32mtry\u001b[0m\u001b[1;33m:\u001b[0m\u001b[1;33m\u001b[0m\u001b[1;33m\u001b[0m\u001b[0m\n\u001b[0;32m    229\u001b[0m             \u001b[1;32mif\u001b[0m \u001b[0mself\u001b[0m\u001b[1;33m.\u001b[0m\u001b[0mlow_memory\u001b[0m\u001b[1;33m:\u001b[0m\u001b[1;33m\u001b[0m\u001b[1;33m\u001b[0m\u001b[0m\n\u001b[1;32m--> 230\u001b[1;33m                 \u001b[0mchunks\u001b[0m \u001b[1;33m=\u001b[0m \u001b[0mself\u001b[0m\u001b[1;33m.\u001b[0m\u001b[0m_reader\u001b[0m\u001b[1;33m.\u001b[0m\u001b[0mread_low_memory\u001b[0m\u001b[1;33m(\u001b[0m\u001b[0mnrows\u001b[0m\u001b[1;33m)\u001b[0m\u001b[1;33m\u001b[0m\u001b[1;33m\u001b[0m\u001b[0m\n\u001b[0m\u001b[0;32m    231\u001b[0m                 \u001b[1;31m# destructive to chunks\u001b[0m\u001b[1;33m\u001b[0m\u001b[1;33m\u001b[0m\u001b[0m\n\u001b[0;32m    232\u001b[0m                 \u001b[0mdata\u001b[0m \u001b[1;33m=\u001b[0m \u001b[0m_concatenate_chunks\u001b[0m\u001b[1;33m(\u001b[0m\u001b[0mchunks\u001b[0m\u001b[1;33m)\u001b[0m\u001b[1;33m\u001b[0m\u001b[1;33m\u001b[0m\u001b[0m\n",
      "\u001b[1;32mc:\\Users\\antho\\anaconda3\\lib\\site-packages\\pandas\\_libs\\parsers.pyx\u001b[0m in \u001b[0;36mpandas._libs.parsers.TextReader.read_low_memory\u001b[1;34m()\u001b[0m\n",
      "\u001b[1;32mc:\\Users\\antho\\anaconda3\\lib\\site-packages\\pandas\\_libs\\parsers.pyx\u001b[0m in \u001b[0;36mpandas._libs.parsers.TextReader._read_rows\u001b[1;34m()\u001b[0m\n",
      "\u001b[1;32mc:\\Users\\antho\\anaconda3\\lib\\site-packages\\pandas\\_libs\\parsers.pyx\u001b[0m in \u001b[0;36mpandas._libs.parsers.TextReader._convert_column_data\u001b[1;34m()\u001b[0m\n",
      "\u001b[1;32mc:\\Users\\antho\\anaconda3\\lib\\site-packages\\pandas\\_libs\\parsers.pyx\u001b[0m in \u001b[0;36mpandas._libs.parsers.TextReader._convert_tokens\u001b[1;34m()\u001b[0m\n",
      "\u001b[1;32mc:\\Users\\antho\\anaconda3\\lib\\site-packages\\pandas\\_libs\\parsers.pyx\u001b[0m in \u001b[0;36mpandas._libs.parsers.TextReader._convert_with_dtype\u001b[1;34m()\u001b[0m\n",
      "\u001b[1;32mc:\\Users\\antho\\anaconda3\\lib\\site-packages\\pandas\\core\\dtypes\\common.py\u001b[0m in \u001b[0;36mis_extension_array_dtype\u001b[1;34m(arr_or_dtype)\u001b[0m\n\u001b[0;32m   1431\u001b[0m \u001b[1;33m\u001b[0m\u001b[0m\n\u001b[0;32m   1432\u001b[0m \u001b[1;33m\u001b[0m\u001b[0m\n\u001b[1;32m-> 1433\u001b[1;33m \u001b[1;32mdef\u001b[0m \u001b[0mis_extension_array_dtype\u001b[0m\u001b[1;33m(\u001b[0m\u001b[0marr_or_dtype\u001b[0m\u001b[1;33m)\u001b[0m \u001b[1;33m->\u001b[0m \u001b[0mbool\u001b[0m\u001b[1;33m:\u001b[0m\u001b[1;33m\u001b[0m\u001b[1;33m\u001b[0m\u001b[0m\n\u001b[0m\u001b[0;32m   1434\u001b[0m     \"\"\"\n\u001b[0;32m   1435\u001b[0m     \u001b[0mCheck\u001b[0m \u001b[1;32mif\u001b[0m \u001b[0man\u001b[0m \u001b[0mobject\u001b[0m \u001b[1;32mis\u001b[0m \u001b[0ma\u001b[0m \u001b[0mpandas\u001b[0m \u001b[0mextension\u001b[0m \u001b[0marray\u001b[0m \u001b[0mtype\u001b[0m\u001b[1;33m.\u001b[0m\u001b[1;33m\u001b[0m\u001b[1;33m\u001b[0m\u001b[0m\n",
      "\u001b[1;31mKeyboardInterrupt\u001b[0m: "
     ]
    }
   ],
   "source": [
    "# Path to directory\n",
    "directory_path = 'C:/Users/antho/Documents/MEMOIRE_M2/c3d_audeline/ON_OFF_all_features/'\n",
    "\n",
    "# Stratégies de resampling à tester\n",
    "smote_strategies = [0.1, 0.2, 0.3, 0.4, 0.5, 0.6, 0.7, 0.8, 0.9,1]\n",
    "under_strategies = [0.1,0.2,0.3,0.4, 0.5, 0.6, 0.7,0.8,0.9,1]\n",
    "\n",
    "# DataFrame to store results\n",
    "results_df = pd.DataFrame()\n",
    "\n",
    "# Process each file with each combination of resampling strategies\n",
    "for filename in os.listdir(directory_path):\n",
    "    if filename.endswith(\".csv\"):\n",
    "        filepath = os.path.join(directory_path, filename)\n",
    "        for smote_strategy in smote_strategies:\n",
    "            for under_strategy in under_strategies:\n",
    "                result = apply_vc_resampling_pipeline(filepath, smote_strategy, under_strategy)\n",
    "                results_df = results_df.append(result, ignore_index=True)\n",
    "                print(f\"Added results for {filename} with SMOTE {smote_strategy} and UNDER {under_strategy} to the DataFrame.\")\n",
    "\n",
    "# Find the best combination based on ROC AUC Score\n",
    "best_combination = results_df.loc[results_df['ROC AUC Score'].idxmax()]\n",
    "print(f\"The best resampling combination is SMOTE {best_combination['SMOTE Strategy']} and UNDER {best_combination['Under Strategy']} with an ROC AUC Score of {best_combination['ROC AUC Score']}\")\n",
    "\n",
    "# Save results\n",
    "results_file = 'C:/Users/antho/Documents/MEMOIRE_M2/c3d_audeline/resultats_resampling/results_combinations_TousLesFichiers.csv'\n",
    "results_df.to_csv(results_file, index=False)\n",
    "print(f\"Results saved to {results_file}.\")"
   ]
  }
 ],
 "metadata": {
  "kernelspec": {
   "display_name": "base",
   "language": "python",
   "name": "python3"
  },
  "language_info": {
   "codemirror_mode": {
    "name": "ipython",
    "version": 3
   },
   "file_extension": ".py",
   "mimetype": "text/x-python",
   "name": "python",
   "nbconvert_exporter": "python",
   "pygments_lexer": "ipython3",
   "version": "3.9.13"
  }
 },
 "nbformat": 4,
 "nbformat_minor": 2
}
