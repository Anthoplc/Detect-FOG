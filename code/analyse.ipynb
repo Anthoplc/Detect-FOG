{
 "cells": [
  {
   "cell_type": "code",
   "execution_count": 3,
   "metadata": {},
   "outputs": [],
   "source": [
    "import os\n",
    "import pandas as pd\n",
    "\n",
    "patient1_essai2 = pd.read_excel('C:/Users/antho/Documents/MEMOIRE_M2/CODE_STAGE_M2/data_article/raw/imus6_subjects7/pt1_visit_24_tbc_walklr_0_trial_2.xlsx', header=0)\n",
    "patient1_essai2.dropna(axis=1, inplace=True)\n",
    "\n"
   ]
  }
 ],
 "metadata": {
  "kernelspec": {
   "display_name": "STAGE_M2",
   "language": "python",
   "name": "python3"
  },
  "language_info": {
   "codemirror_mode": {
    "name": "ipython",
    "version": 3
   },
   "file_extension": ".py",
   "mimetype": "text/x-python",
   "name": "python",
   "nbconvert_exporter": "python",
   "pygments_lexer": "ipython3",
   "version": "3.12.0"
  }
 },
 "nbformat": 4,
 "nbformat_minor": 2
}
